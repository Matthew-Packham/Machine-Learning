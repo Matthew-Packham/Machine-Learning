{
 "cells": [
  {
   "cell_type": "markdown",
   "metadata": {},
   "source": [
    "# _k_ nearest neighbours (kNN)\n",
    "\n",
    "The purpose of this notebook is to understand the kNN algorithm by implementing it low level - NumPy ONLY!\n",
    "\n",
    "The kNN algorithm can be used both for classification and  regression. \n",
    "* it start with calculating the distance of a given point $x$ to all other points in the data set. \n",
    "* Then, it finds the _k_ nearest points closest to $x$, and assigns the new point $x$ to the majority class of the _k_ nearest points _(classification)_. \n",
    "\n",
    "So, for example, if two of the _k_=3 closest points to $x$ were red while one is blue, $x$ would be classified as red.\n",
    "\n",
    "On the other hand in _regression_, we see the labels as continuous variables and assign the label of a data point $x$ as the mean of the labels of its _k_ nearest neighbours. "
   ]
  },
  {
   "cell_type": "code",
   "execution_count": 1,
   "metadata": {},
   "outputs": [],
   "source": [
    "#dependencies \n",
    "import numpy as np\n",
    "from sklearn.datasets import make_classification, fetch_california_housing\n",
    "import matplotlib.pyplot as plt\n",
    "from matplotlib.colors import ListedColormap"
   ]
  },
  {
   "cell_type": "markdown",
   "metadata": {},
   "source": [
    "## Reminder of axes-wise"
   ]
  },
  {
   "attachments": {
    "axes.jpg": {
     "image/jpeg": "[encoded data removed]"
    }
   },
   "cell_type": "markdown",
   "metadata": {},
   "source": [
    "![axes.jpg](attachment:axes.jpg)"
   ]
  },
  {
   "cell_type": "markdown",
   "metadata": {},
   "source": [
    "This makes alot more sense! \n",
    "* axis = 0 are the rows (as expected) so we sum row-wise i.e down the rows! \n",
    "* axis = 1 are the columns so we sum column-wise i.e. across the coulmns!"
   ]
  },
  {
   "cell_type": "code",
   "execution_count": 24,
   "metadata": {},
   "outputs": [],
   "source": [
    "# function which computes Euclidean Dist\n",
    "def euclidian_distance(p, q):\n",
    "    return np.sqrt(np.sum((p-q)**2, axis=1)) "
   ]
  },
  {
   "cell_type": "code",
   "execution_count": 27,
   "metadata": {},
   "outputs": [
    {
     "name": "stdout",
     "output_type": "stream",
     "text": [
      "[[1]\n",
      " [2]]\n",
      "\n",
      "[[5]\n",
      " [3]]\n",
      "\n",
      "[4. 1.]\n"
     ]
    }
   ],
   "source": [
    "p = np.array([1, 2]).reshape(-1,1)\n",
    "q = np.array([5, 3]).reshape(-1,1)\n",
    "\n",
    "print(p)\n",
    "print('')\n",
    "print(q)\n",
    "print('')\n",
    "print(euclidian_distance(p,q))"
   ]
  },
  {
   "cell_type": "code",
   "execution_count": 30,
   "metadata": {},
   "outputs": [
    {
     "name": "stdout",
     "output_type": "stream",
     "text": [
      "[[1 2 3]\n",
      " [4 5 6]]\n",
      "\n",
      "(2, 3)\n"
     ]
    }
   ],
   "source": [
    "p = np.array([[1,2,3], [4,5,6]])\n",
    "print(p)\n",
    "print('')\n",
    "print(p.shape)"
   ]
  },
  {
   "cell_type": "code",
   "execution_count": 31,
   "metadata": {},
   "outputs": [
    {
     "name": "stdout",
     "output_type": "stream",
     "text": [
      "[[ 7  8  9]\n",
      " [10 11 12]]\n"
     ]
    }
   ],
   "source": [
    "q = np.array([[7,8,9], [10, 11, 12]])\n",
    "print(q)"
   ]
  },
  {
   "cell_type": "code",
   "execution_count": 33,
   "metadata": {},
   "outputs": [
    {
     "name": "stdout",
     "output_type": "stream",
     "text": [
      "[10.39230485 10.39230485]\n"
     ]
    }
   ],
   "source": [
    "print(euclidian_distance(p,q))\n",
    "\n",
    "# the reason it is brought up (i.e. side by side is because we are dealing with columns! ie 1st coolumn then second column)"
   ]
  },
  {
   "cell_type": "markdown",
   "metadata": {},
   "source": [
    "# KNN: Classification"
   ]
  },
  {
   "cell_type": "code",
   "execution_count": 93,
   "metadata": {},
   "outputs": [],
   "source": [
    "# create data - (100, 2) with three classes\n",
    "X_class, y = make_classification(n_samples=100, n_features=2, n_redundant=0, n_informative=2, n_clusters_per_class=1,\n",
    "                                 n_classes=3, random_state=15)"
   ]
  },
  {
   "cell_type": "code",
   "execution_count": 37,
   "metadata": {},
   "outputs": [],
   "source": [
    "# Standardise data - Key for KNN to ensure there are no domainaces in certain predictor vairables (columns)\n",
    "def standardise(X):\n",
    "  mu = np.mean(X, 0)\n",
    "  sigma = np.std(X, 0)\n",
    "  X_std = (X - mu) / sigma\n",
    "  return X_std"
   ]
  },
  {
   "cell_type": "code",
   "execution_count": 38,
   "metadata": {},
   "outputs": [],
   "source": [
    "X = standardise(X_class)"
   ]
  },
  {
   "cell_type": "code",
   "execution_count": 40,
   "metadata": {},
   "outputs": [
    {
     "data": {
      "text/plain": [
       "(100, 2)"
      ]
     },
     "execution_count": 40,
     "metadata": {},
     "output_type": "execute_result"
    }
   ],
   "source": [
    "X.shape"
   ]
  },
  {
   "cell_type": "code",
   "execution_count": 41,
   "metadata": {
    "scrolled": true
   },
   "outputs": [
    {
     "data": {
      "text/plain": [
       "(100,)"
      ]
     },
     "execution_count": 41,
     "metadata": {},
     "output_type": "execute_result"
    }
   ],
   "source": [
    "y.shape"
   ]
  },
  {
   "cell_type": "code",
   "execution_count": 46,
   "metadata": {},
   "outputs": [
    {
     "name": "stdout",
     "output_type": "stream",
     "text": [
      "(100, 1)\n"
     ]
    }
   ],
   "source": [
    "print((y[:, np.newaxis]).shape)"
   ]
  },
  {
   "cell_type": "code",
   "execution_count": 96,
   "metadata": {},
   "outputs": [],
   "source": [
    "# stacking data X and labels y into one matrix\n",
    "#need to expand y with a new axis (since its only 1-dim)\n",
    "data = np.hstack((X, y[:, np.newaxis]))\n",
    "\n",
    "# shuffling the rows        \n",
    "np.random.shuffle(data)\n",
    "\n",
    "# we split train to test as 70:30\n",
    "split_rate = 0.7\n",
    "#np.split takes an indices_or_sections arg which takes an array giving where you want the splits\n",
    "# i.e. For example, [2, 3] would, for axis=0, result in ary[:2], ary[2:3], ary[3:] - see docs for reminder! \n",
    "train, test = np.split(data, indices_or_sections=[int(split_rate*(data.shape[0]))])\n",
    "\n",
    "#then seperate the data out into X and Y\n",
    "X_train = train[:,:-1] # up to the last column\n",
    "y_train = train[:, -1] # just the last column\n",
    "\n",
    "X_test = test[:,:-1]\n",
    "y_test = test[:, -1]\n",
    "\n",
    "#ensure the data are intergers\n",
    "y_train = y_train.astype(int)\n",
    "y_test = y_test.astype(int)"
   ]
  },
  {
   "cell_type": "code",
   "execution_count": 98,
   "metadata": {},
   "outputs": [
    {
     "data": {
      "image/png": "[encoded data removed]",
      "text/plain": [
       "<Figure size 864x576 with 1 Axes>"
      ]
     },
     "metadata": {
      "needs_background": "light"
     },
     "output_type": "display_data"
    }
   ],
   "source": [
    "# define colormaps\n",
    "cm = plt.cm.RdBu\n",
    "cm_bright = ListedColormap(['blue', 'red', 'green'])\n",
    "\n",
    "# visual exploration\n",
    "plt.figure(figsize=(12,8))\n",
    "plt.xlabel(r'$X^{(1)}$', size=24)\n",
    "plt.ylabel(r'$X^{(2)}$', size=24)\n",
    "plt.title('Data Points (test set is transparent)', size=24)\n",
    "#plot the training set \n",
    "plt.scatter(X_train[:, 0], X_train[:, 1], c=y_train, cmap=cm_bright)\n",
    "# plot the test set - alpha sets transparency\n",
    "plt.scatter(X_test[:, 0], X_test[:, 1], c=y_test, cmap=cm_bright, alpha=0.25) \n",
    "plt.show()"
   ]
  },
  {
   "cell_type": "code",
   "execution_count": 99,
   "metadata": {},
   "outputs": [],
   "source": [
    "# calucluate k-nearest neighbours\n",
    "def k_neighbours(X_test, k=5, return_distance=False):\n",
    "    n_neighbours = k\n",
    "    dist = []\n",
    "    neigh_ind = []\n",
    "\n",
    "   # compute distance from each point x_text in X_test to all points in X_train \n",
    "    point_dist = [euclidian_distance(x_test, X_train) for x_test in X_test]\n",
    "    \n",
    "\n",
    "   # determine which k training points are closest to each test point\n",
    "    for row in point_dist:\n",
    "        \n",
    "        # take a row and enumerate it (i.e. each elm in row is now a tuple--> (ind, dist)) \n",
    "        # we then sort the row based on the size of the dist (i.e. x[1])\n",
    "        # then we only want the top k ones so [:k]\n",
    "        sorted_neigh = sorted(enumerate(row), key=lambda x: x[1])[:k]\n",
    "        \n",
    "        #split the indices and distances from the tuple into seperate lists\n",
    "        ind_list = [tup[0] for tup in sorted_neigh]\n",
    "        dist_list = [tup[1] for tup in sorted_neigh]\n",
    "        \n",
    "        #append to full lists \n",
    "        dist.append(dist_list)\n",
    "        neigh_ind.append(ind_list)\n",
    "\n",
    "  # return distances together with indices of k nearest neighbouts\n",
    "    if return_distance:\n",
    "        return np.array(dist), np.array(neigh_ind)\n",
    "\n",
    "    return np.array(neigh_ind)"
   ]
  },
  {
   "cell_type": "markdown",
   "metadata": {},
   "source": [
    "#### We have Our K Nearest neighbour - Now lets get prediction based on these\n",
    "\n",
    "We know which _k_ neighbours are closest to our test points so lets predict the labels by counting the number of occuernces of a label within our neighbourhood"
   ]
  },
  {
   "cell_type": "code",
   "execution_count": 100,
   "metadata": {
    "scrolled": false
   },
   "outputs": [],
   "source": [
    "def predict(X_test, y_train, k=5):\n",
    "    \n",
    "  # each of the k neighbours contributes equally to the classification of any data point in X_test  \n",
    "  neighbours = k_neighbours(X_test, k=k)\n",
    "    \n",
    "  # count number of occurences of label with np.bincount and choose the label that has most with np.argmax \n",
    "  y_pred = np.array([np.argmax(np.bincount(y_train[neighbour])) for neighbour in neighbours]) ## <-- SOLUTION\n",
    "\n",
    "  return y_pred"
   ]
  },
  {
   "cell_type": "markdown",
   "metadata": {},
   "source": [
    "#### Now we have our predictions we need a way of scoring how well the prediction is\n",
    "\n",
    "To evaluate the algorithm we compute the mean accuracy by counting how many of the test points have been classified correctly and dividing this number by the total number of data points in our test set."
   ]
  },
  {
   "cell_type": "code",
   "execution_count": 101,
   "metadata": {},
   "outputs": [],
   "source": [
    "def score(X_test, y_test, y_train, k=5):\n",
    "    \n",
    "    y_pred = predict(X_test, y_train, k=k)\n",
    "    \n",
    "    #compute the average of the number of correct predictions\n",
    "    return np.float(sum(y_pred==y_test))/ float(len(y_test))"
   ]
  },
  {
   "cell_type": "code",
   "execution_count": 102,
   "metadata": {},
   "outputs": [
    {
     "name": "stdout",
     "output_type": "stream",
     "text": [
      "Train set mean accuracy: 0.9428571428571428\n",
      "Test set mean accuracy: 0.8666666666666667\n"
     ]
    }
   ],
   "source": [
    "k = 8\n",
    "\n",
    "# remember KNN is a supervised Learning Algorithum - hence have labels for test set too!\n",
    "print('Train set mean accuracy:', score(X_train, y_train, y_train, k=k))\n",
    "print('Test set mean accuracy:', score(X_test, y_test, y_train, k=k))"
   ]
  },
  {
   "cell_type": "code",
   "execution_count": null,
   "metadata": {},
   "outputs": [],
   "source": []
  },
  {
   "cell_type": "code",
   "execution_count": null,
   "metadata": {},
   "outputs": [],
   "source": []
  }
 ],
 "metadata": {
  "kernelspec": {
   "display_name": "Python 3",
   "language": "python",
   "name": "python3"
  },
  "language_info": {
   "codemirror_mode": {
    "name": "ipython",
    "version": 3
   },
   "file_extension": ".py",
   "mimetype": "text/x-python",
   "name": "python",
   "nbconvert_exporter": "python",
   "pygments_lexer": "ipython3",
   "version": "3.8.3"
  }
 },
 "nbformat": 4,
 "nbformat_minor": 4
}
